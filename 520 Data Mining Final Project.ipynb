{
 "cells": [
  {
   "cell_type": "markdown",
   "id": "9d582008",
   "metadata": {},
   "source": [
    "### Import Modules"
   ]
  },
  {
   "cell_type": "code",
   "execution_count": 1,
   "id": "dab4af18",
   "metadata": {},
   "outputs": [],
   "source": [
    "import csv\n",
    "import glob\n",
    "import io\n",
    "import math\n",
    "import os\n",
    "import warnings\n",
    "from collections import defaultdict\n",
    "from random import shuffle\n",
    "\n",
    "import numpy as np\n",
    "import pandas as pd\n",
    "\n",
    "import matplotlib.pyplot as plt"
   ]
  },
  {
   "cell_type": "markdown",
   "id": "1bb7587c",
   "metadata": {},
   "source": [
    "### Read Data"
   ]
  },
  {
   "cell_type": "code",
   "execution_count": 2,
   "id": "66d8aa59",
   "metadata": {},
   "outputs": [],
   "source": [
    "warnings.filterwarnings(\"ignore\", category=DeprecationWarning)"
   ]
  },
  {
   "cell_type": "code",
   "execution_count": 14,
   "id": "e9ca3768",
   "metadata": {},
   "outputs": [
    {
     "name": "stderr",
     "output_type": "stream",
     "text": [
      "/opt/anaconda3/lib/python3.7/site-packages/IPython/core/interactiveshell.py:3063: DtypeWarning: Columns (6,1547,1575,1576,1577,1587,1588,1729,1909,1910,1911,1912,1913) have mixed types.Specify dtype option on import or set low_memory=False.\n",
      "  interactivity=interactivity, compiler=compiler, result=result)\n"
     ]
    }
   ],
   "source": [
    "df = pd.read_csv('Institution_data_final.csv')"
   ]
  },
  {
   "cell_type": "code",
   "execution_count": 15,
   "id": "12bb9a5d",
   "metadata": {},
   "outputs": [
    {
     "data": {
      "text/plain": [
       "Index(['UNITID', 'OPEID', 'OPEID6', 'INSTNM', 'CITY', 'STABBR', 'ZIP',\n",
       "       'ACCREDAGENCY', 'INSTURL', 'NPCURL',\n",
       "       ...\n",
       "       'COUNT_WNE_MALE1_P8', 'MD_EARN_WNE_MALE1_P8', 'GT_THRESHOLD_P10',\n",
       "       'MD_EARN_WNE_INC1_P10', 'MD_EARN_WNE_INC2_P10', 'MD_EARN_WNE_INC3_P10',\n",
       "       'MD_EARN_WNE_INDEP1_P10', 'MD_EARN_WNE_INDEP0_P10',\n",
       "       'MD_EARN_WNE_MALE0_P10', 'MD_EARN_WNE_MALE1_P10'],\n",
       "      dtype='object', length=2989)"
      ]
     },
     "execution_count": 15,
     "metadata": {},
     "output_type": "execute_result"
    }
   ],
   "source": [
    "df.columns"
   ]
  },
  {
   "cell_type": "code",
   "execution_count": 16,
   "id": "43dd86aa",
   "metadata": {},
   "outputs": [
    {
     "name": "stdout",
     "output_type": "stream",
     "text": [
      "<class 'pandas.core.frame.DataFrame'>\n",
      "RangeIndex: 7869 entries, 0 to 7868\n",
      "Columns: 2989 entries, UNITID to MD_EARN_WNE_MALE1_P10\n",
      "dtypes: float64(1719), int64(12), object(1258)\n",
      "memory usage: 179.4+ MB\n"
     ]
    }
   ],
   "source": [
    "df.info()"
   ]
  },
  {
   "cell_type": "markdown",
   "id": "dc1aabb9",
   "metadata": {},
   "source": [
    "### Data Preprocessing "
   ]
  },
  {
   "cell_type": "markdown",
   "id": "b91ad958",
   "metadata": {},
   "source": [
    "#### Standardize data"
   ]
  },
  {
   "cell_type": "code",
   "execution_count": 18,
   "id": "ff44da07",
   "metadata": {},
   "outputs": [],
   "source": [
    "object_list = []\n",
    "for col in df.columns:\n",
    "    if df[col].dtypes == 'object':\n",
    "        object_list.append(col)"
   ]
  },
  {
   "cell_type": "code",
   "execution_count": 19,
   "id": "7ed22411",
   "metadata": {},
   "outputs": [],
   "source": [
    "del object_list[0:4]\n",
    "# Exclude unitid, zipcode, opeid, city, state postcode"
   ]
  },
  {
   "cell_type": "code",
   "execution_count": 20,
   "id": "2ee0f201",
   "metadata": {},
   "outputs": [],
   "source": [
    "# convert the data type from object to float\n",
    "for col in object_list:\n",
    "    df[col] = pd.to_numeric(df[col], errors='coerce')"
   ]
  },
  {
   "cell_type": "code",
   "execution_count": 24,
   "id": "7414671f",
   "metadata": {},
   "outputs": [],
   "source": [
    "earning_10y = df[~df['MN_EARN_WNE_P10'].isnull()]['MN_EARN_WNE_P10']"
   ]
  },
  {
   "cell_type": "markdown",
   "id": "aad120b4",
   "metadata": {},
   "source": [
    "####  Filter out outliers"
   ]
  },
  {
   "cell_type": "code",
   "execution_count": 26,
   "id": "6fdc9e30",
   "metadata": {},
   "outputs": [
    {
     "data": {
      "image/png": "[encoded data removed]",
      "text/plain": [
       "<Figure size 720x504 with 1 Axes>"
      ]
     },
     "metadata": {
      "needs_background": "light"
     },
     "output_type": "display_data"
    }
   ],
   "source": [
    "fig = plt.figure(figsize =(10, 7))\n",
    "plt.boxplot(earning_10y )\n",
    "# show plot\n",
    "plt.show()"
   ]
  },
  {
   "cell_type": "code",
   "execution_count": 9,
   "id": "f1050a94",
   "metadata": {},
   "outputs": [],
   "source": [
    "df = df[~(np.abs(df['MN_EARN_WNE_P10']-df['MN_EARN_WNE_P10'].mean()) > (3*df['MN_EARN_WNE_P10'].std()))]"
   ]
  },
  {
   "cell_type": "markdown",
   "id": "03323325",
   "metadata": {},
   "source": [
    "#### Correlation"
   ]
  },
  {
   "cell_type": "markdown",
   "id": "707d8d19",
   "metadata": {},
   "source": [
    "First of all, for the selection of key indicatorsn, after comparing the distribution of students' earning 1,3,6,10 years after graduation, I think the '10 years later' data is more representative, because earnings of graduated students don't change too much in the early stage of their career and they might consider pursuing another degree or trying a variety of positions in a different industry, which makes the earnings in the early years after graduation may not be indicative of longer-term earnings.\n"
   ]
  },
  {
   "cell_type": "markdown",
   "id": "48070a72",
   "metadata": {},
   "source": [
    "Use MN_EARN_WNE_P10 as the key feature, which indicate the earnings of students working and not enrolled 10 years after entry. Calculated the correlation between the key feature and other attributes to process the initial selection."
   ]
  },
  {
   "cell_type": "code",
   "execution_count": 15,
   "id": "29984919",
   "metadata": {},
   "outputs": [],
   "source": [
    "# MN_EARN_WNE_P10: mean earnings of students working and not enrolled 10 years after entry\n",
    "df['MN_EARN_WNE_P10'] = pd.to_numeric(df.MN_EARN_WNE_P10.astype(str).str.replace(',',''), errors='coerce')"
   ]
  },
  {
   "cell_type": "code",
   "execution_count": 16,
   "id": "20529364",
   "metadata": {},
   "outputs": [
    {
     "name": "stderr",
     "output_type": "stream",
     "text": [
      "/opt/anaconda3/lib/python3.7/site-packages/numpy/lib/function_base.py:2526: RuntimeWarning: Degrees of freedom <= 0 for slice\n",
      "  c = cov(x, y, rowvar)\n",
      "/opt/anaconda3/lib/python3.7/site-packages/numpy/lib/function_base.py:2455: RuntimeWarning: divide by zero encountered in true_divide\n",
      "  c *= np.true_divide(1, fact)\n"
     ]
    }
   ],
   "source": [
    "corr_matrix = df.corrwith(df[\"MN_EARN_WNE_P10\"])"
   ]
  },
  {
   "cell_type": "code",
   "execution_count": 17,
   "id": "2dfb20d3",
   "metadata": {},
   "outputs": [],
   "source": [
    "corr_table = pd.DataFrame(corr_matrix).reset_index()\n",
    "corr_table.columns = ['Feature','Correlation']"
   ]
  },
  {
   "cell_type": "markdown",
   "id": "98ccb1e1",
   "metadata": {},
   "source": [
    "Exclude features whose name contain 'EARN' or 'DEATH' or '25K', and selecte those with correlation over 0.5."
   ]
  },
  {
   "cell_type": "code",
   "execution_count": 18,
   "id": "9207e786",
   "metadata": {},
   "outputs": [
    {
     "data": {
      "text/html": [
       "<div>\n",
       "<style scoped>\n",
       "    .dataframe tbody tr th:only-of-type {\n",
       "        vertical-align: middle;\n",
       "    }\n",
       "\n",
       "    .dataframe tbody tr th {\n",
       "        vertical-align: top;\n",
       "    }\n",
       "\n",
       "    .dataframe thead th {\n",
       "        text-align: right;\n",
       "    }\n",
       "</style>\n",
       "<table border=\"1\" class=\"dataframe\">\n",
       "  <thead>\n",
       "    <tr style=\"text-align: right;\">\n",
       "      <th></th>\n",
       "      <th>Feature</th>\n",
       "      <th>Correlation</th>\n",
       "    </tr>\n",
       "  </thead>\n",
       "  <tbody>\n",
       "    <tr>\n",
       "      <th>34</th>\n",
       "      <td>SATVR25</td>\n",
       "      <td>0.681315</td>\n",
       "    </tr>\n",
       "    <tr>\n",
       "      <th>35</th>\n",
       "      <td>SATVR75</td>\n",
       "      <td>0.620273</td>\n",
       "    </tr>\n",
       "    <tr>\n",
       "      <th>36</th>\n",
       "      <td>SATMT25</td>\n",
       "      <td>0.747645</td>\n",
       "    </tr>\n",
       "    <tr>\n",
       "      <th>37</th>\n",
       "      <td>SATMT75</td>\n",
       "      <td>0.714006</td>\n",
       "    </tr>\n",
       "    <tr>\n",
       "      <th>38</th>\n",
       "      <td>SATWR25</td>\n",
       "      <td>0.701899</td>\n",
       "    </tr>\n",
       "    <tr>\n",
       "      <th>...</th>\n",
       "      <td>...</td>\n",
       "      <td>...</td>\n",
       "    </tr>\n",
       "    <tr>\n",
       "      <th>1711</th>\n",
       "      <td>COMPL_RPY_3YR_RT_SUPP</td>\n",
       "      <td>0.640910</td>\n",
       "    </tr>\n",
       "    <tr>\n",
       "      <th>1712</th>\n",
       "      <td>NONCOM_RPY_3YR_RT_SUPP</td>\n",
       "      <td>0.629624</td>\n",
       "    </tr>\n",
       "    <tr>\n",
       "      <th>1715</th>\n",
       "      <td>PELL_RPY_3YR_RT_SUPP</td>\n",
       "      <td>0.607054</td>\n",
       "    </tr>\n",
       "    <tr>\n",
       "      <th>1718</th>\n",
       "      <td>MALE_RPY_3YR_RT_SUPP</td>\n",
       "      <td>0.642217</td>\n",
       "    </tr>\n",
       "    <tr>\n",
       "      <th>1720</th>\n",
       "      <td>NOTFIRSTGEN_RPY_3YR_RT_SUPP</td>\n",
       "      <td>0.607351</td>\n",
       "    </tr>\n",
       "  </tbody>\n",
       "</table>\n",
       "<p>68 rows × 2 columns</p>\n",
       "</div>"
      ],
      "text/plain": [
       "                          Feature  Correlation\n",
       "34                        SATVR25     0.681315\n",
       "35                        SATVR75     0.620273\n",
       "36                        SATMT25     0.747645\n",
       "37                        SATMT75     0.714006\n",
       "38                        SATWR25     0.701899\n",
       "...                           ...          ...\n",
       "1711        COMPL_RPY_3YR_RT_SUPP     0.640910\n",
       "1712       NONCOM_RPY_3YR_RT_SUPP     0.629624\n",
       "1715         PELL_RPY_3YR_RT_SUPP     0.607054\n",
       "1718         MALE_RPY_3YR_RT_SUPP     0.642217\n",
       "1720  NOTFIRSTGEN_RPY_3YR_RT_SUPP     0.607351\n",
       "\n",
       "[68 rows x 2 columns]"
      ]
     },
     "execution_count": 18,
     "metadata": {},
     "output_type": "execute_result"
    }
   ],
   "source": [
    "corr_table_final = corr_table[(corr_table['Feature'].str.contains('EARN')==0) &\n",
    "                              (corr_table['Feature'].str.contains('DEATH')==0) &\n",
    "                             (corr_table['Feature'].str.contains('25K')==0)\n",
    "                              & (corr_table['Correlation']>0.6)\n",
    "                             ]\n",
    "corr_table_final"
   ]
  },
  {
   "cell_type": "markdown",
   "id": "67ac7fa8",
   "metadata": {},
   "source": [
    "Only considered one feature in each category, eg: 25th percentile of the ACT cumulative score, 75th percentile of the ACT cumulative score, 25th percentile of the ACT math score all have correlation score over the threshold, and I would only keep one in the final selected list because they are also correlated with each other."
   ]
  },
  {
   "cell_type": "code",
   "execution_count": 19,
   "id": "71cb1134",
   "metadata": {},
   "outputs": [
    {
     "name": "stdout",
     "output_type": "stream",
     "text": [
      "<class 'pandas.core.frame.DataFrame'>\n",
      "RangeIndex: 7869 entries, 0 to 7868\n",
      "Data columns (total 12 columns):\n",
      " #   Column            Non-Null Count  Dtype  \n",
      "---  ------            --------------  -----  \n",
      " 0   MN_EARN_WNE_P10   6158 non-null   float64\n",
      " 1   ADM_RATE          2241 non-null   float64\n",
      " 2   SAT_AVG           1431 non-null   float64\n",
      " 3   AVGFACSAL         4685 non-null   float64\n",
      " 4   INEXPFTE          7418 non-null   float64\n",
      " 5   NPT4_PUB          1926 non-null   float64\n",
      " 6   NPT4_PRIV         4774 non-null   float64\n",
      " 7   PPTUG_EF          7119 non-null   float64\n",
      " 8   ACTMT25           1176 non-null   float64\n",
      " 9   MALE_RPY_7YR_RT   4547 non-null   float64\n",
      " 10  IND_RPY_7YR_RT    4848 non-null   float64\n",
      " 11  COMPL_RPY_7YR_RT  4673 non-null   float64\n",
      "dtypes: float64(12)\n",
      "memory usage: 737.8 KB\n"
     ]
    }
   ],
   "source": [
    "df[['MN_EARN_WNE_P10', 'ADM_RATE', 'SAT_AVG', 'AVGFACSAL', 'INEXPFTE', 'NPT4_PUB', 'NPT4_PRIV', 'PPTUG_EF',\n",
    "         'ACTMT25','MALE_RPY_7YR_RT','IND_RPY_7YR_RT','COMPL_RPY_7YR_RT']].info()"
   ]
  },
  {
   "cell_type": "code",
   "execution_count": 20,
   "id": "52292c34",
   "metadata": {},
   "outputs": [
    {
     "data": {
      "text/plain": [
       "MN_EARN_WNE_P10     37455.911010\n",
       "ADM_RATE                0.683778\n",
       "SAT_AVG              1057.555556\n",
       "AVGFACSAL            6020.397866\n",
       "INEXPFTE             6978.961984\n",
       "PPTUG_EF                0.224076\n",
       "ACTMT25                19.495748\n",
       "MALE_RPY_7YR_RT         0.619306\n",
       "IND_RPY_7YR_RT          0.573881\n",
       "COMPL_RPY_7YR_RT        0.736994\n",
       "dtype: float64"
      ]
     },
     "execution_count": 20,
     "metadata": {},
     "output_type": "execute_result"
    }
   ],
   "source": [
    "check_list = ['MN_EARN_WNE_P10', 'ADM_RATE', 'SAT_AVG', 'AVGFACSAL', 'INEXPFTE', 'PPTUG_EF',\n",
    "                     'ACTMT25','MALE_RPY_7YR_RT','IND_RPY_7YR_RT','COMPL_RPY_7YR_RT']\n",
    "\n",
    "df[check_list].mean()"
   ]
  },
  {
   "cell_type": "markdown",
   "id": "5d90588c",
   "metadata": {},
   "source": [
    "#### Feature Selection"
   ]
  },
  {
   "cell_type": "code",
   "execution_count": 21,
   "id": "2262eb62",
   "metadata": {},
   "outputs": [],
   "source": [
    "final_selected_list = ['ADM_RATE', 'SAT_AVG', 'AVGFACSAL', 'INEXPFTE', 'PPTUG_EF',#'COMPL_RPY_7YR_RT','IND_RPY_7YR_RT'\n",
    "                   'ACTMT25','MALE_RPY_7YR_RT']\n",
    "\n",
    "key_metric = ['MN_EARN_WNE_P10']"
   ]
  },
  {
   "cell_type": "code",
   "execution_count": 22,
   "id": "d5a4dfc5",
   "metadata": {},
   "outputs": [],
   "source": [
    "final_selected_mean = df[final_selected_list].mean()"
   ]
  },
  {
   "cell_type": "markdown",
   "id": "9e024996",
   "metadata": {},
   "source": [
    "#### Fill Missing Value"
   ]
  },
  {
   "cell_type": "code",
   "execution_count": 30,
   "id": "e9069a09",
   "metadata": {},
   "outputs": [],
   "source": [
    "df[check_list] = df[check_list].fillna(df[check_list].mean())"
   ]
  },
  {
   "cell_type": "code",
   "execution_count": 31,
   "id": "c18413a1",
   "metadata": {},
   "outputs": [],
   "source": [
    "y_to_use = np.array(df[key_metric[0]])"
   ]
  },
  {
   "cell_type": "code",
   "execution_count": 32,
   "id": "61f1fb1a",
   "metadata": {},
   "outputs": [],
   "source": [
    "x_to_use = np.array(df[final_selected_list])"
   ]
  },
  {
   "cell_type": "markdown",
   "id": "2d3ff98c",
   "metadata": {},
   "source": [
    "### Build Model"
   ]
  },
  {
   "cell_type": "code",
   "execution_count": 33,
   "id": "1f2b6361",
   "metadata": {},
   "outputs": [],
   "source": [
    "def k_means(k, x):\n",
    "    # do k_means\n",
    "    total_row = x.shape[0]\n",
    "    total_col = x.shape[1]\n",
    "    mu = []\n",
    "    init_mu_index = []\n",
    "    # initialize the mu\n",
    "    while len(init_mu_index) < k:\n",
    "        index = np.random.randint(total_row)\n",
    "        # prevent same mean (may need to change)\n",
    "        if index not in init_mu_index:\n",
    "            init_mu_index.append(index)\n",
    "            mu.append(x[index])\n",
    "\n",
    "    it = 0\n",
    "    previous_total_loss = None\n",
    "    total_loss = None\n",
    "    while previous_total_loss is None or total_loss - previous_total_loss < 0:\n",
    "        \n",
    "        # update c\n",
    "        c = np.zeros(total_row)\n",
    "        for cur_row in range(total_row):\n",
    "            x_i = x[cur_row]\n",
    "            first_v = x_i - mu[0]\n",
    "            min_loss = np.dot(first_v, first_v)\n",
    "            min_j = 0\n",
    "            for j in range(k):\n",
    "                v = x_i - mu[j]\n",
    "                cur_loss = np.dot(v, v)\n",
    "                if cur_loss < min_loss:\n",
    "                    min_j = j\n",
    "                    min_loss = cur_loss\n",
    "            c[cur_row] = min_j\n",
    "        # update mu\n",
    "        for j in range(k):\n",
    "            # numerator and denominator for mu_j\n",
    "            mu_j_num = np.zeros(total_col)\n",
    "            mu_j_den = 0\n",
    "            for cur_row in range(total_row): \n",
    "                if c[cur_row] == j:\n",
    "                    mu_j_num += x[cur_row]\n",
    "                    mu_j_den += 1\n",
    "            mu[j] = 0\n",
    "            if mu_j_den != 0:\n",
    "                mu[j] = 1 / mu_j_den * mu_j_num\n",
    "        it += 1\n",
    "        # get loss function \n",
    "        previous_total_loss = total_loss\n",
    "        total_loss = 0\n",
    "        for cur_row in range(total_row):\n",
    "            x_i = x[cur_row]\n",
    "            mu_j = mu[int(c[cur_row])]\n",
    "            v = x_i - mu_j\n",
    "            total_loss += np.dot(v, v)\n",
    "    return c , mu, total_loss"
   ]
  },
  {
   "cell_type": "code",
   "execution_count": 34,
   "id": "d18b4e81",
   "metadata": {},
   "outputs": [],
   "source": [
    "list = ['MN_EARN_WNE_P10', 'ADM_RATE', 'SAT_AVG', 'AVGFACSAL', 'INEXPFTE', 'PPTUG_EF',\n",
    "                     'ACTMT25','MALE_RPY_7YR_RT']"
   ]
  },
  {
   "cell_type": "code",
   "execution_count": 35,
   "id": "eb842c50",
   "metadata": {},
   "outputs": [],
   "source": [
    "data_transformed = df[list]"
   ]
  },
  {
   "cell_type": "code",
   "execution_count": 36,
   "id": "82088e7b",
   "metadata": {},
   "outputs": [],
   "source": [
    "from sklearn.preprocessing import MinMaxScaler\n",
    "from sklearn.cluster import KMeans\n",
    "\n",
    "Sum_of_squared_distances = []\n",
    "K = range(1,7)\n",
    "for k in K:\n",
    "    km = KMeans(n_clusters=k)\n",
    "    km = km.fit(data_transformed)\n",
    "    Sum_of_squared_distances.append(km.inertia_)"
   ]
  },
  {
   "cell_type": "code",
   "execution_count": 48,
   "id": "5fcb5481",
   "metadata": {},
   "outputs": [
    {
     "data": {
      "image/png": "[encoded data removed]",
      "text/plain": [
       "<Figure size 720x504 with 1 Axes>"
      ]
     },
     "metadata": {
      "needs_background": "light"
     },
     "output_type": "display_data"
    }
   ],
   "source": [
    "fig, ax = plt.subplots(figsize=(10,7))\n",
    "plt.plot(K, Sum_of_squared_distances, 'bx-')\n",
    "plt.xlabel('Number of Cluster')\n",
    "plt.ylabel('Sum of Squared Distance')\n",
    "plt.title('Elbow Method For Optimal K')\n",
    "plt.show()"
   ]
  },
  {
   "cell_type": "markdown",
   "id": "e149b15f",
   "metadata": {},
   "source": [
    "From the plot above, it shows that K = 3 or 4 is the optimal number of cluster. After checking the performance by generating 3 or 4 clusters, I decided to use K = 4."
   ]
  },
  {
   "cell_type": "code",
   "execution_count": null,
   "id": "96f3125f",
   "metadata": {},
   "outputs": [],
   "source": []
  },
  {
   "cell_type": "code",
   "execution_count": 39,
   "id": "fca44e50",
   "metadata": {},
   "outputs": [],
   "source": [
    "\n",
    "min_seed = 0\n",
    "min_loss = None\n",
    "for i in range(10):\n",
    "    x = np.random.randint(2**31)\n",
    "    np.random.seed(x)\n",
    "    k_clus = 4\n",
    "    cluster, cluster_mean, total_loss = k_means(k_clus, x_to_use)\n",
    "    if min_loss == None:\n",
    "        min_loss = total_loss\n",
    "        min_seed = x\n",
    "    elif min_loss > total_loss:\n",
    "        min_seed = x\n",
    "        min_loss = total_loss\n"
   ]
  },
  {
   "cell_type": "code",
   "execution_count": null,
   "id": "caf538a6",
   "metadata": {},
   "outputs": [],
   "source": [
    "#min_seed = 1328509290\n",
    "np.random.seed(1328509290)"
   ]
  },
  {
   "cell_type": "code",
   "execution_count": 40,
   "id": "db918d2a",
   "metadata": {},
   "outputs": [
    {
     "name": "stdout",
     "output_type": "stream",
     "text": [
      "Average error is  17880213.124089874\n"
     ]
    }
   ],
   "source": [
    "\n",
    "cluster, cluster_mean, total_loss = k_means(k_clus, x_to_use)\n",
    "print('Average error is ', total_loss / x_to_use.shape[0])"
   ]
  },
  {
   "cell_type": "markdown",
   "id": "cbd1fe38",
   "metadata": {},
   "source": [
    "After checking the segmentation result, it shows that those institutions with higher graduate incomes also have stricter admissions requirements, including higher standardized test scores (SAT and ACT) and lower acceptance rates. They also have stricter requirements on educational methods, such as less tolerance for part-time students, and a greater desire for students to focus on their studies.  In addition to this, they also have better staff and student benefits such as higher faculty salary and higher instructional expenditure."
   ]
  },
  {
   "cell_type": "code",
   "execution_count": null,
   "id": "8a4c4c37",
   "metadata": {},
   "outputs": [],
   "source": []
  },
  {
   "cell_type": "markdown",
   "id": "1ad0d6e0",
   "metadata": {},
   "source": [
    "### Segmentation "
   ]
  },
  {
   "cell_type": "code",
   "execution_count": 41,
   "id": "a999b487",
   "metadata": {},
   "outputs": [],
   "source": [
    "avg_earning = [0 for i in range(k_clus)]\n",
    "avg_earning_count = [0 for i in range(k_clus)]"
   ]
  },
  {
   "cell_type": "code",
   "execution_count": 42,
   "id": "1fedf411",
   "metadata": {},
   "outputs": [],
   "source": [
    "for cur_cluster in range(len(cluster)):\n",
    "\n",
    "    i = int(cluster[cur_cluster])\n",
    "    avg_earning[i] += df.loc[cur_cluster, [key_metric[0]]].astype(float)\n",
    "    avg_earning_count[i] += 1"
   ]
  },
  {
   "cell_type": "code",
   "execution_count": 43,
   "id": "51a0342c",
   "metadata": {},
   "outputs": [],
   "source": [
    "for i in range(k_clus):\n",
    "    avg_earning[i] /= avg_earning_count[i] "
   ]
  },
  {
   "cell_type": "code",
   "execution_count": 44,
   "id": "45f18fd4",
   "metadata": {},
   "outputs": [
    {
     "name": "stdout",
     "output_type": "stream",
     "text": [
      "\n",
      "6262\n",
      "The average earning after 10 yrs in this cluster  0  is  MN_EARN_WNE_P10    34642.40604\n",
      "Name: 0, dtype: float64\n",
      "ADM_RATE  is  0.6928069498262818\n",
      "SAT_AVG  is  1049.9343127862421\n",
      "AVGFACSAL  is  5656.5770755287385\n",
      "INEXPFTE  is  4599.604576005664\n",
      "PPTUG_EF  is  0.2399611260261514\n",
      "ACTMT25  is  19.32539415478726\n",
      "MALE_RPY_7YR_RT  is  0.5975999081211425\n",
      "\n",
      "\n",
      "19\n",
      "The average earning after 10 yrs in this cluster  1  is  MN_EARN_WNE_P10    88793.660792\n",
      "Name: 234, dtype: float64\n",
      "ADM_RATE  is  0.528183527090819\n",
      "SAT_AVG  is  1170.9356725146195\n",
      "AVGFACSAL  is  9489.430680222433\n",
      "INEXPFTE  is  118089.05263157895\n",
      "PPTUG_EF  is  0.15190805331913831\n",
      "ACTMT25  is  21.970327604726112\n",
      "MALE_RPY_7YR_RT  is  0.706787275814136\n",
      "\n",
      "\n",
      "166\n",
      "The average earning after 10 yrs in this cluster  2  is  MN_EARN_WNE_P10    67446.254847\n",
      "Name: 74, dtype: float64\n",
      "ADM_RATE  is  0.5507423581877705\n",
      "SAT_AVG  is  1150.285809906295\n",
      "AVGFACSAL  is  8638.982643916104\n",
      "INEXPFTE  is  37518.0\n",
      "PPTUG_EF  is  0.150132822905613\n",
      "ACTMT25  is  21.34611917055973\n",
      "MALE_RPY_7YR_RT  is  0.6807446294683114\n",
      "\n",
      "\n",
      "1422\n",
      "The average earning after 10 yrs in this cluster  3  is  MN_EARN_WNE_P10    45658.69146\n",
      "Name: 1, dtype: float64\n",
      "ADM_RATE  is  0.6616247831457237\n",
      "SAT_AVG  is  1078.77691826846\n",
      "AVGFACSAL  is  7270.502711019238\n",
      "INEXPFTE  is  12407.206751054853\n",
      "PPTUG_EF  is  0.16371677485360872\n",
      "ACTMT25  is  19.99685876460277\n",
      "MALE_RPY_7YR_RT  is  0.7065534333296722\n",
      "\n"
     ]
    }
   ],
   "source": [
    "for i in range(k_clus):\n",
    "    print()\n",
    "    print(avg_earning_count[i])\n",
    "    print(\"The average earning after 10 yrs in this cluster \", i, \" is \", avg_earning[i])\n",
    "    for ind in range(len(final_selected_list)):\n",
    "        print(final_selected_list[ind], ' is ', cluster_mean[i][ind])\n",
    "    print()"
   ]
  },
  {
   "cell_type": "markdown",
   "id": "a98d5901",
   "metadata": {},
   "source": [
    "### PCA"
   ]
  },
  {
   "cell_type": "code",
   "execution_count": 45,
   "id": "0e72e770",
   "metadata": {},
   "outputs": [],
   "source": [
    "#indicator_mean = indicator_mean[1:len(indicator_mean)]\n",
    "\n",
    "# subtract by the mean\n",
    "for i in range(x_to_use.shape[0]):\n",
    "    for j in range(x_to_use.shape[1]):\n",
    "        x_to_use[i][j] -= final_selected_mean[j]\n",
    "    # Find  variance\n",
    "ind_var = [0 for i in range(x_to_use.shape[1])]\n",
    "for i in range(x_to_use.shape[0]):\n",
    "    for j in range(x_to_use.shape[1]):\n",
    "        ind_var[j] += np.power(float(x_to_use[i][j]), 2)\n",
    "for i in range(len(ind_var)):\n",
    "    ind_var[i] /= x_to_use.shape[0]\n",
    "    ind_var[i] = np.sqrt(ind_var[i])\n",
    "# divided by variance\n",
    "for i in range(x_to_use.shape[0]):\n",
    "    for j in range(x_to_use.shape[1]):\n",
    "        x_to_use[i][j] /= ind_var[j]\n",
    "\n",
    "sigma = 0\n",
    "for i in range(x_to_use.shape[0]):\n",
    "    v = x_to_use[i]\n",
    "    sigma += np.outer(v, v)\n",
    "sigma *= (1 / x_to_use.shape[0])\n",
    "w, v = np.linalg.eig(sigma)\n",
    "# need the first 2 eigenvectors (2-dim)\n",
    "u = [v[:,0], v[:,1]]\n",
    "y = np.zeros((x_to_use.shape[0], 2))\n",
    "y_max = [0 for i in range(2)]\n",
    "y_min = [0 for i in range(2)]\n",
    "for i in range(x_to_use.shape[0]):\n",
    "    for j in range(2):\n",
    "        cur_u = u[j]\n",
    "        y[i][j] = np.dot(cur_u, x_to_use[i])\n",
    "        if y[i][j] > y_max[j]:\n",
    "            y_max[j] = y[i][j]\n",
    "        if y[i][j] < y_min[j]:\n",
    "            y_min[j] = y[i][j] "
   ]
  },
  {
   "cell_type": "code",
   "execution_count": 46,
   "id": "394b0375",
   "metadata": {},
   "outputs": [],
   "source": [
    "y = pd.read_csv('y.csv')\n",
    "del y['Unnamed: 0']\n",
    "y = np.array(y)"
   ]
  },
  {
   "cell_type": "code",
   "execution_count": 47,
   "id": "a7efe6b8",
   "metadata": {},
   "outputs": [
    {
     "data": {
      "image/png": "[encoded data removed]",
      "text/plain": [
       "<Figure size 864x576 with 1 Axes>"
      ]
     },
     "metadata": {
      "needs_background": "light"
     },
     "output_type": "display_data"
    }
   ],
   "source": [
    "fig, ax = plt.subplots(figsize=(12,8))\n",
    "for i in range(y.shape[0]):\n",
    "    # jth cluster \n",
    "    j = cluster[i]\n",
    "    if j == 0:\n",
    "        plt.plot(y[i][0], y[i][1], 'bx')\n",
    "    elif j == 1:\n",
    "        plt.plot(y[i][0], y[i][1], 'rx')\n",
    "    elif j == 2:\n",
    "        plt.plot(y[i][0], y[i][1], 'gx')\n",
    "    elif j == 3:\n",
    "        plt.plot(y[i][0], y[i][1], 'yx')\n",
    "    else:\n",
    "        plt.plot(y[i][0], y[i][1], 'mx')\n",
    "\n",
    "plt.xlabel('PCA_1')\n",
    "plt.ylabel('PCA_2')\n",
    "plt.title('Institution Cluster Plot')\n",
    "plt.show()"
   ]
  },
  {
   "cell_type": "code",
   "execution_count": null,
   "id": "752af39d",
   "metadata": {},
   "outputs": [],
   "source": []
  },
  {
   "cell_type": "code",
   "execution_count": null,
   "id": "196951c1",
   "metadata": {},
   "outputs": [],
   "source": []
  },
  {
   "cell_type": "code",
   "execution_count": null,
   "id": "7b9ed0dd",
   "metadata": {},
   "outputs": [],
   "source": []
  }
 ],
 "metadata": {
  "kernelspec": {
   "display_name": "Python 3",
   "language": "python",
   "name": "python3"
  },
  "language_info": {
   "codemirror_mode": {
    "name": "ipython",
    "version": 3
   },
   "file_extension": ".py",
   "mimetype": "text/x-python",
   "name": "python",
   "nbconvert_exporter": "python",
   "pygments_lexer": "ipython3",
   "version": "3.7.6"
  }
 },
 "nbformat": 4,
 "nbformat_minor": 5
}
